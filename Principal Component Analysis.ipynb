{
 "cells": [
  {
   "cell_type": "code",
   "execution_count": 266,
   "metadata": {},
   "outputs": [],
   "source": [
    "import numpy as np \n",
    "import pandas as pd \n",
    "import seaborn as sns \n",
    "import matplotlib.pyplot as plt \n",
    "\n",
    "from sklearn import preprocessing\n",
    "from sklearn.preprocessing import StandardScaler\n",
    "from sklearn.decomposition import PCA"
   ]
  },
  {
   "cell_type": "code",
   "execution_count": 267,
   "metadata": {},
   "outputs": [],
   "source": [
    "df_birds= pd.read_csv(\"~/All_BIRDS_clean-csv.csv\")\n",
    "df_test= pd.read_csv(\"~/test.csv\")"
   ]
  },
  {
   "cell_type": "code",
   "execution_count": 268,
   "metadata": {},
   "outputs": [
    {
     "data": {
      "text/html": [
       "<div>\n",
       "<style scoped>\n",
       "    .dataframe tbody tr th:only-of-type {\n",
       "        vertical-align: middle;\n",
       "    }\n",
       "\n",
       "    .dataframe tbody tr th {\n",
       "        vertical-align: top;\n",
       "    }\n",
       "\n",
       "    .dataframe thead th {\n",
       "        text-align: right;\n",
       "    }\n",
       "</style>\n",
       "<table border=\"1\" class=\"dataframe\">\n",
       "  <thead>\n",
       "    <tr style=\"text-align: right;\">\n",
       "      <th></th>\n",
       "      <th>sound</th>\n",
       "      <th>duration</th>\n",
       "      <th>duration_noSilence</th>\n",
       "      <th>voiced</th>\n",
       "      <th>ampl_mean</th>\n",
       "      <th>ampl_median</th>\n",
       "      <th>ampl_sd</th>\n",
       "      <th>amplVoiced_mean</th>\n",
       "      <th>amplVoiced_median</th>\n",
       "      <th>amplVoiced_sd</th>\n",
       "      <th>...</th>\n",
       "      <th>quartile75_sd</th>\n",
       "      <th>specCentroid_mean</th>\n",
       "      <th>specCentroid_median</th>\n",
       "      <th>specCentroid_sd</th>\n",
       "      <th>specCentroidCut_mean</th>\n",
       "      <th>specCentroidCut_median</th>\n",
       "      <th>specCentroidCut_sd</th>\n",
       "      <th>specSlope_mean</th>\n",
       "      <th>specSlope_median</th>\n",
       "      <th>specSlope_sd</th>\n",
       "    </tr>\n",
       "  </thead>\n",
       "  <tbody>\n",
       "    <tr>\n",
       "      <th>0</th>\n",
       "      <td>0</td>\n",
       "      <td>24.189388</td>\n",
       "      <td>22.325</td>\n",
       "      <td>0.148914</td>\n",
       "      <td>0.031487</td>\n",
       "      <td>0.003907</td>\n",
       "      <td>0.074105</td>\n",
       "      <td>0.180446</td>\n",
       "      <td>0.178326</td>\n",
       "      <td>0.103375</td>\n",
       "      <td>...</td>\n",
       "      <td>229.360605</td>\n",
       "      <td>3757.672806</td>\n",
       "      <td>3731.587447</td>\n",
       "      <td>379.183619</td>\n",
       "      <td>3140.049991</td>\n",
       "      <td>3183.946469</td>\n",
       "      <td>199.638113</td>\n",
       "      <td>0.000119</td>\n",
       "      <td>0.000118</td>\n",
       "      <td>0.000204</td>\n",
       "    </tr>\n",
       "    <tr>\n",
       "      <th>1</th>\n",
       "      <td>0</td>\n",
       "      <td>49.084082</td>\n",
       "      <td>46.300</td>\n",
       "      <td>0.086093</td>\n",
       "      <td>0.018643</td>\n",
       "      <td>0.008956</td>\n",
       "      <td>0.027578</td>\n",
       "      <td>0.092910</td>\n",
       "      <td>0.083515</td>\n",
       "      <td>0.043643</td>\n",
       "      <td>...</td>\n",
       "      <td>596.373062</td>\n",
       "      <td>4591.303021</td>\n",
       "      <td>4498.859660</td>\n",
       "      <td>632.616332</td>\n",
       "      <td>3392.018293</td>\n",
       "      <td>3332.887867</td>\n",
       "      <td>331.849765</td>\n",
       "      <td>0.000268</td>\n",
       "      <td>0.000189</td>\n",
       "      <td>0.000295</td>\n",
       "    </tr>\n",
       "    <tr>\n",
       "      <th>2</th>\n",
       "      <td>0</td>\n",
       "      <td>54.909388</td>\n",
       "      <td>52.300</td>\n",
       "      <td>0.026867</td>\n",
       "      <td>0.022171</td>\n",
       "      <td>0.019751</td>\n",
       "      <td>0.013355</td>\n",
       "      <td>0.065403</td>\n",
       "      <td>0.062161</td>\n",
       "      <td>0.022481</td>\n",
       "      <td>...</td>\n",
       "      <td>837.587412</td>\n",
       "      <td>6778.914399</td>\n",
       "      <td>7065.257239</td>\n",
       "      <td>801.814640</td>\n",
       "      <td>4256.403109</td>\n",
       "      <td>4116.525708</td>\n",
       "      <td>533.224089</td>\n",
       "      <td>0.000688</td>\n",
       "      <td>0.000669</td>\n",
       "      <td>0.000271</td>\n",
       "    </tr>\n",
       "    <tr>\n",
       "      <th>3</th>\n",
       "      <td>0</td>\n",
       "      <td>17.737143</td>\n",
       "      <td>9.950</td>\n",
       "      <td>0.076271</td>\n",
       "      <td>0.015068</td>\n",
       "      <td>0.008179</td>\n",
       "      <td>0.019696</td>\n",
       "      <td>0.073331</td>\n",
       "      <td>0.070686</td>\n",
       "      <td>0.025690</td>\n",
       "      <td>...</td>\n",
       "      <td>179.547782</td>\n",
       "      <td>4614.293334</td>\n",
       "      <td>4629.528365</td>\n",
       "      <td>349.982420</td>\n",
       "      <td>3149.368216</td>\n",
       "      <td>3143.543224</td>\n",
       "      <td>148.106341</td>\n",
       "      <td>0.000137</td>\n",
       "      <td>0.000102</td>\n",
       "      <td>0.000188</td>\n",
       "    </tr>\n",
       "    <tr>\n",
       "      <th>4</th>\n",
       "      <td>0</td>\n",
       "      <td>72.487982</td>\n",
       "      <td>72.350</td>\n",
       "      <td>0.080373</td>\n",
       "      <td>0.030471</td>\n",
       "      <td>0.020385</td>\n",
       "      <td>0.038723</td>\n",
       "      <td>0.105281</td>\n",
       "      <td>0.082981</td>\n",
       "      <td>0.065533</td>\n",
       "      <td>...</td>\n",
       "      <td>324.575425</td>\n",
       "      <td>3019.709996</td>\n",
       "      <td>3217.481713</td>\n",
       "      <td>733.370308</td>\n",
       "      <td>2819.090141</td>\n",
       "      <td>2951.892596</td>\n",
       "      <td>425.549069</td>\n",
       "      <td>-0.000062</td>\n",
       "      <td>-0.000024</td>\n",
       "      <td>0.000261</td>\n",
       "    </tr>\n",
       "  </tbody>\n",
       "</table>\n",
       "<p>5 rows × 79 columns</p>\n",
       "</div>"
      ],
      "text/plain": [
       "   sound   duration  duration_noSilence    voiced  ampl_mean  ampl_median  \\\n",
       "0      0  24.189388              22.325  0.148914   0.031487     0.003907   \n",
       "1      0  49.084082              46.300  0.086093   0.018643     0.008956   \n",
       "2      0  54.909388              52.300  0.026867   0.022171     0.019751   \n",
       "3      0  17.737143               9.950  0.076271   0.015068     0.008179   \n",
       "4      0  72.487982              72.350  0.080373   0.030471     0.020385   \n",
       "\n",
       "    ampl_sd  amplVoiced_mean  amplVoiced_median  amplVoiced_sd  ...  \\\n",
       "0  0.074105         0.180446           0.178326       0.103375  ...   \n",
       "1  0.027578         0.092910           0.083515       0.043643  ...   \n",
       "2  0.013355         0.065403           0.062161       0.022481  ...   \n",
       "3  0.019696         0.073331           0.070686       0.025690  ...   \n",
       "4  0.038723         0.105281           0.082981       0.065533  ...   \n",
       "\n",
       "   quartile75_sd  specCentroid_mean  specCentroid_median  specCentroid_sd  \\\n",
       "0     229.360605        3757.672806          3731.587447       379.183619   \n",
       "1     596.373062        4591.303021          4498.859660       632.616332   \n",
       "2     837.587412        6778.914399          7065.257239       801.814640   \n",
       "3     179.547782        4614.293334          4629.528365       349.982420   \n",
       "4     324.575425        3019.709996          3217.481713       733.370308   \n",
       "\n",
       "   specCentroidCut_mean  specCentroidCut_median  specCentroidCut_sd  \\\n",
       "0           3140.049991             3183.946469          199.638113   \n",
       "1           3392.018293             3332.887867          331.849765   \n",
       "2           4256.403109             4116.525708          533.224089   \n",
       "3           3149.368216             3143.543224          148.106341   \n",
       "4           2819.090141             2951.892596          425.549069   \n",
       "\n",
       "   specSlope_mean  specSlope_median  specSlope_sd  \n",
       "0        0.000119          0.000118      0.000204  \n",
       "1        0.000268          0.000189      0.000295  \n",
       "2        0.000688          0.000669      0.000271  \n",
       "3        0.000137          0.000102      0.000188  \n",
       "4       -0.000062         -0.000024      0.000261  \n",
       "\n",
       "[5 rows x 79 columns]"
      ]
     },
     "execution_count": 268,
     "metadata": {},
     "output_type": "execute_result"
    }
   ],
   "source": [
    "df_birds.head()"
   ]
  },
  {
   "cell_type": "code",
   "execution_count": 269,
   "metadata": {},
   "outputs": [
    {
     "data": {
      "text/plain": [
       "(1388, 79)"
      ]
     },
     "execution_count": 269,
     "metadata": {},
     "output_type": "execute_result"
    }
   ],
   "source": [
    "df_birds.shape"
   ]
  },
  {
   "cell_type": "code",
   "execution_count": 270,
   "metadata": {},
   "outputs": [
    {
     "name": "stdout",
     "output_type": "stream",
     "text": [
      "<class 'pandas.core.frame.DataFrame'>\n",
      "RangeIndex: 1388 entries, 0 to 1387\n",
      "Data columns (total 79 columns):\n",
      "sound                     1388 non-null int64\n",
      "duration                  1388 non-null float64\n",
      "duration_noSilence        1388 non-null float64\n",
      "voiced                    1388 non-null float64\n",
      "ampl_mean                 1388 non-null float64\n",
      "ampl_median               1388 non-null float64\n",
      "ampl_sd                   1388 non-null float64\n",
      "amplVoiced_mean           1388 non-null float64\n",
      "amplVoiced_median         1388 non-null float64\n",
      "amplVoiced_sd             1388 non-null float64\n",
      "dom_mean                  1388 non-null float64\n",
      "dom_median                1388 non-null float64\n",
      "dom_sd                    1388 non-null float64\n",
      "entropy_mean              1388 non-null float64\n",
      "entropy_median            1388 non-null float64\n",
      "entropy_sd                1388 non-null float64\n",
      "f1_freq_mean              1388 non-null float64\n",
      "f1_freq_median            1388 non-null float64\n",
      "f1_freq_sd                1388 non-null float64\n",
      "f1_width_mean             1388 non-null float64\n",
      "f1_width_median           1388 non-null float64\n",
      "f1_width_sd               1388 non-null float64\n",
      "f2_freq_mean              1388 non-null float64\n",
      "f2_freq_median            1388 non-null float64\n",
      "f2_freq_sd                1388 non-null float64\n",
      "f2_width_mean             1388 non-null float64\n",
      "f2_width_median           1388 non-null float64\n",
      "f2_width_sd               1388 non-null float64\n",
      "f3_freq_mean              1388 non-null float64\n",
      "f3_freq_median            1388 non-null float64\n",
      "f3_freq_sd                1388 non-null float64\n",
      "f3_width_mean             1388 non-null float64\n",
      "f3_width_median           1388 non-null float64\n",
      "f3_width_sd               1388 non-null float64\n",
      "harmonics_mean            1388 non-null float64\n",
      "harmonics_median          1388 non-null float64\n",
      "harmonics_sd              1388 non-null float64\n",
      "HNR_mean                  1388 non-null float64\n",
      "HNR_median                1388 non-null float64\n",
      "HNR_sd                    1388 non-null float64\n",
      "loudness_mean             1388 non-null float64\n",
      "loudness_median           1388 non-null float64\n",
      "loudness_sd               1388 non-null float64\n",
      "medianFreq_mean           1388 non-null float64\n",
      "medianFreq_median         1388 non-null float64\n",
      "medianFreq_sd             1388 non-null float64\n",
      "peakFreq_mean             1388 non-null float64\n",
      "peakFreq_median           1388 non-null float64\n",
      "peakFreq_sd               1388 non-null float64\n",
      "peakFreqCut_mean          1388 non-null float64\n",
      "peakFreqCut_median        1388 non-null float64\n",
      "peakFreqCut_sd            1388 non-null float64\n",
      "pitch_mean                1388 non-null float64\n",
      "pitch_median              1388 non-null float64\n",
      "pitch_sd                  1388 non-null float64\n",
      "pitchAutocor_mean         1388 non-null float64\n",
      "pitchAutocor_median       1388 non-null float64\n",
      "pitchAutocor_sd           1388 non-null float64\n",
      "pitchSpec_mean            1388 non-null float64\n",
      "pitchSpec_median          1388 non-null float64\n",
      "pitchSpec_sd              1388 non-null float64\n",
      "quartile25_mean           1388 non-null float64\n",
      "quartile25_median         1388 non-null float64\n",
      "quartile25_sd             1388 non-null float64\n",
      "quartile50_mean           1388 non-null float64\n",
      "quartile50_median         1388 non-null float64\n",
      "quartile50_sd             1388 non-null float64\n",
      "quartile75_mean           1388 non-null float64\n",
      "quartile75_median         1388 non-null float64\n",
      "quartile75_sd             1388 non-null float64\n",
      "specCentroid_mean         1388 non-null float64\n",
      "specCentroid_median       1388 non-null float64\n",
      "specCentroid_sd           1388 non-null float64\n",
      "specCentroidCut_mean      1388 non-null float64\n",
      "specCentroidCut_median    1388 non-null float64\n",
      "specCentroidCut_sd        1388 non-null float64\n",
      "specSlope_mean            1388 non-null float64\n",
      "specSlope_median          1388 non-null float64\n",
      "specSlope_sd              1388 non-null float64\n",
      "dtypes: float64(78), int64(1)\n",
      "memory usage: 856.8 KB\n"
     ]
    }
   ],
   "source": [
    "df_birds.info()"
   ]
  },
  {
   "cell_type": "code",
   "execution_count": 271,
   "metadata": {},
   "outputs": [
    {
     "data": {
      "text/plain": [
       "(15, 78)"
      ]
     },
     "execution_count": 271,
     "metadata": {},
     "output_type": "execute_result"
    }
   ],
   "source": [
    "df_test.shape"
   ]
  },
  {
   "cell_type": "code",
   "execution_count": 272,
   "metadata": {},
   "outputs": [
    {
     "name": "stdout",
     "output_type": "stream",
     "text": [
      "<class 'pandas.core.frame.DataFrame'>\n",
      "RangeIndex: 15 entries, 0 to 14\n",
      "Data columns (total 78 columns):\n",
      "duration                  15 non-null float64\n",
      "duration_noSilence        15 non-null float64\n",
      "voiced                    15 non-null float64\n",
      "ampl_mean                 15 non-null float64\n",
      "ampl_median               15 non-null float64\n",
      "ampl_sd                   15 non-null float64\n",
      "amplVoiced_mean           15 non-null float64\n",
      "amplVoiced_median         15 non-null float64\n",
      "amplVoiced_sd             15 non-null float64\n",
      "dom_mean                  14 non-null float64\n",
      "dom_median                14 non-null float64\n",
      "dom_sd                    14 non-null float64\n",
      "entropy_mean              15 non-null float64\n",
      "entropy_median            15 non-null float64\n",
      "entropy_sd                15 non-null float64\n",
      "f1_freq_mean              15 non-null float64\n",
      "f1_freq_median            15 non-null float64\n",
      "f1_freq_sd                15 non-null float64\n",
      "f1_width_mean             15 non-null float64\n",
      "f1_width_median           15 non-null float64\n",
      "f1_width_sd               15 non-null float64\n",
      "f2_freq_mean              15 non-null float64\n",
      "f2_freq_median            15 non-null float64\n",
      "f2_freq_sd                15 non-null float64\n",
      "f2_width_mean             15 non-null float64\n",
      "f2_width_median           15 non-null float64\n",
      "f2_width_sd               15 non-null float64\n",
      "f3_freq_mean              15 non-null float64\n",
      "f3_freq_median            15 non-null float64\n",
      "f3_freq_sd                15 non-null float64\n",
      "f3_width_mean             15 non-null float64\n",
      "f3_width_median           15 non-null float64\n",
      "f3_width_sd               15 non-null float64\n",
      "harmonics_mean            15 non-null float64\n",
      "harmonics_median          15 non-null float64\n",
      "harmonics_sd              15 non-null float64\n",
      "HNR_mean                  15 non-null float64\n",
      "HNR_median                15 non-null float64\n",
      "HNR_sd                    15 non-null float64\n",
      "loudness_mean             15 non-null float64\n",
      "loudness_median           15 non-null float64\n",
      "loudness_sd               15 non-null float64\n",
      "medianFreq_mean           15 non-null float64\n",
      "medianFreq_median         15 non-null float64\n",
      "medianFreq_sd             15 non-null float64\n",
      "peakFreq_mean             15 non-null float64\n",
      "peakFreq_median           15 non-null float64\n",
      "peakFreq_sd               15 non-null float64\n",
      "peakFreqCut_mean          15 non-null float64\n",
      "peakFreqCut_median        15 non-null float64\n",
      "peakFreqCut_sd            15 non-null float64\n",
      "pitch_mean                15 non-null float64\n",
      "pitch_median              15 non-null float64\n",
      "pitch_sd                  15 non-null float64\n",
      "pitchAutocor_mean         15 non-null float64\n",
      "pitchAutocor_median       15 non-null float64\n",
      "pitchAutocor_sd           15 non-null float64\n",
      "pitchSpec_mean            15 non-null float64\n",
      "pitchSpec_median          15 non-null float64\n",
      "pitchSpec_sd              14 non-null float64\n",
      "quartile25_mean           15 non-null float64\n",
      "quartile25_median         15 non-null float64\n",
      "quartile25_sd             15 non-null float64\n",
      "quartile50_mean           15 non-null float64\n",
      "quartile50_median         15 non-null float64\n",
      "quartile50_sd             15 non-null float64\n",
      "quartile75_mean           15 non-null float64\n",
      "quartile75_median         15 non-null float64\n",
      "quartile75_sd             15 non-null float64\n",
      "specCentroid_mean         15 non-null float64\n",
      "specCentroid_median       15 non-null float64\n",
      "specCentroid_sd           15 non-null float64\n",
      "specCentroidCut_mean      15 non-null float64\n",
      "specCentroidCut_median    15 non-null float64\n",
      "specCentroidCut_sd        15 non-null float64\n",
      "specSlope_mean            15 non-null float64\n",
      "specSlope_median          15 non-null float64\n",
      "specSlope_sd              15 non-null float64\n",
      "dtypes: float64(78)\n",
      "memory usage: 9.3 KB\n"
     ]
    }
   ],
   "source": [
    "df_test.info()"
   ]
  },
  {
   "cell_type": "code",
   "execution_count": 273,
   "metadata": {},
   "outputs": [
    {
     "data": {
      "text/html": [
       "<div>\n",
       "<style scoped>\n",
       "    .dataframe tbody tr th:only-of-type {\n",
       "        vertical-align: middle;\n",
       "    }\n",
       "\n",
       "    .dataframe tbody tr th {\n",
       "        vertical-align: top;\n",
       "    }\n",
       "\n",
       "    .dataframe thead th {\n",
       "        text-align: right;\n",
       "    }\n",
       "</style>\n",
       "<table border=\"1\" class=\"dataframe\">\n",
       "  <thead>\n",
       "    <tr style=\"text-align: right;\">\n",
       "      <th></th>\n",
       "      <th>sound</th>\n",
       "      <th>duration</th>\n",
       "      <th>duration_noSilence</th>\n",
       "      <th>voiced</th>\n",
       "      <th>ampl_mean</th>\n",
       "      <th>ampl_median</th>\n",
       "      <th>ampl_sd</th>\n",
       "      <th>amplVoiced_mean</th>\n",
       "      <th>amplVoiced_median</th>\n",
       "      <th>amplVoiced_sd</th>\n",
       "      <th>...</th>\n",
       "      <th>quartile75_sd</th>\n",
       "      <th>specCentroid_mean</th>\n",
       "      <th>specCentroid_median</th>\n",
       "      <th>specCentroid_sd</th>\n",
       "      <th>specCentroidCut_mean</th>\n",
       "      <th>specCentroidCut_median</th>\n",
       "      <th>specCentroidCut_sd</th>\n",
       "      <th>specSlope_mean</th>\n",
       "      <th>specSlope_median</th>\n",
       "      <th>specSlope_sd</th>\n",
       "    </tr>\n",
       "  </thead>\n",
       "  <tbody>\n",
       "    <tr>\n",
       "      <th>count</th>\n",
       "      <td>1388.000000</td>\n",
       "      <td>1388.000000</td>\n",
       "      <td>1388.000000</td>\n",
       "      <td>1388.000000</td>\n",
       "      <td>1388.000000</td>\n",
       "      <td>1388.000000</td>\n",
       "      <td>1388.000000</td>\n",
       "      <td>1388.000000</td>\n",
       "      <td>1388.000000</td>\n",
       "      <td>1388.000000</td>\n",
       "      <td>...</td>\n",
       "      <td>1388.000000</td>\n",
       "      <td>1388.000000</td>\n",
       "      <td>1388.000000</td>\n",
       "      <td>1388.000000</td>\n",
       "      <td>1388.000000</td>\n",
       "      <td>1388.000000</td>\n",
       "      <td>1388.000000</td>\n",
       "      <td>1388.000000</td>\n",
       "      <td>1388.000000</td>\n",
       "      <td>1388.000000</td>\n",
       "    </tr>\n",
       "    <tr>\n",
       "      <th>mean</th>\n",
       "      <td>0.056916</td>\n",
       "      <td>51.267286</td>\n",
       "      <td>46.231430</td>\n",
       "      <td>0.190484</td>\n",
       "      <td>0.037845</td>\n",
       "      <td>0.024952</td>\n",
       "      <td>0.036767</td>\n",
       "      <td>0.088769</td>\n",
       "      <td>0.078267</td>\n",
       "      <td>0.042328</td>\n",
       "      <td>...</td>\n",
       "      <td>560.098963</td>\n",
       "      <td>4040.645097</td>\n",
       "      <td>4001.144411</td>\n",
       "      <td>567.662137</td>\n",
       "      <td>3122.074044</td>\n",
       "      <td>3103.197808</td>\n",
       "      <td>435.048492</td>\n",
       "      <td>0.000289</td>\n",
       "      <td>0.000195</td>\n",
       "      <td>0.000629</td>\n",
       "    </tr>\n",
       "    <tr>\n",
       "      <th>std</th>\n",
       "      <td>0.231766</td>\n",
       "      <td>74.028090</td>\n",
       "      <td>71.406156</td>\n",
       "      <td>0.222492</td>\n",
       "      <td>0.035320</td>\n",
       "      <td>0.032617</td>\n",
       "      <td>0.025870</td>\n",
       "      <td>0.036900</td>\n",
       "      <td>0.033869</td>\n",
       "      <td>0.029211</td>\n",
       "      <td>...</td>\n",
       "      <td>359.681860</td>\n",
       "      <td>1266.581506</td>\n",
       "      <td>1312.257404</td>\n",
       "      <td>334.834713</td>\n",
       "      <td>934.922047</td>\n",
       "      <td>991.948659</td>\n",
       "      <td>257.050690</td>\n",
       "      <td>0.000979</td>\n",
       "      <td>0.000906</td>\n",
       "      <td>0.000413</td>\n",
       "    </tr>\n",
       "    <tr>\n",
       "      <th>min</th>\n",
       "      <td>0.000000</td>\n",
       "      <td>1.398750</td>\n",
       "      <td>0.100000</td>\n",
       "      <td>0.000276</td>\n",
       "      <td>0.001381</td>\n",
       "      <td>0.000078</td>\n",
       "      <td>0.003573</td>\n",
       "      <td>0.038424</td>\n",
       "      <td>0.040705</td>\n",
       "      <td>0.000415</td>\n",
       "      <td>...</td>\n",
       "      <td>11.557491</td>\n",
       "      <td>686.240232</td>\n",
       "      <td>502.805309</td>\n",
       "      <td>22.083348</td>\n",
       "      <td>545.481217</td>\n",
       "      <td>375.741382</td>\n",
       "      <td>0.414655</td>\n",
       "      <td>-0.003277</td>\n",
       "      <td>-0.003289</td>\n",
       "      <td>0.000021</td>\n",
       "    </tr>\n",
       "    <tr>\n",
       "      <th>25%</th>\n",
       "      <td>0.000000</td>\n",
       "      <td>16.267755</td>\n",
       "      <td>13.018750</td>\n",
       "      <td>0.045888</td>\n",
       "      <td>0.015662</td>\n",
       "      <td>0.005616</td>\n",
       "      <td>0.018073</td>\n",
       "      <td>0.063046</td>\n",
       "      <td>0.055235</td>\n",
       "      <td>0.021542</td>\n",
       "      <td>...</td>\n",
       "      <td>297.368202</td>\n",
       "      <td>3201.517603</td>\n",
       "      <td>3130.683623</td>\n",
       "      <td>327.522611</td>\n",
       "      <td>2522.277495</td>\n",
       "      <td>2496.264947</td>\n",
       "      <td>251.101134</td>\n",
       "      <td>-0.000322</td>\n",
       "      <td>-0.000342</td>\n",
       "      <td>0.000295</td>\n",
       "    </tr>\n",
       "    <tr>\n",
       "      <th>50%</th>\n",
       "      <td>0.000000</td>\n",
       "      <td>31.203265</td>\n",
       "      <td>27.775000</td>\n",
       "      <td>0.110157</td>\n",
       "      <td>0.027527</td>\n",
       "      <td>0.013533</td>\n",
       "      <td>0.030104</td>\n",
       "      <td>0.078507</td>\n",
       "      <td>0.068385</td>\n",
       "      <td>0.036061</td>\n",
       "      <td>...</td>\n",
       "      <td>482.849361</td>\n",
       "      <td>4071.940543</td>\n",
       "      <td>4013.660228</td>\n",
       "      <td>478.061156</td>\n",
       "      <td>3193.455871</td>\n",
       "      <td>3178.440501</td>\n",
       "      <td>376.176641</td>\n",
       "      <td>0.000212</td>\n",
       "      <td>0.000092</td>\n",
       "      <td>0.000531</td>\n",
       "    </tr>\n",
       "    <tr>\n",
       "      <th>75%</th>\n",
       "      <td>0.000000</td>\n",
       "      <td>57.993105</td>\n",
       "      <td>54.656250</td>\n",
       "      <td>0.236197</td>\n",
       "      <td>0.047494</td>\n",
       "      <td>0.029496</td>\n",
       "      <td>0.048192</td>\n",
       "      <td>0.104970</td>\n",
       "      <td>0.089064</td>\n",
       "      <td>0.056554</td>\n",
       "      <td>...</td>\n",
       "      <td>745.681887</td>\n",
       "      <td>4849.885635</td>\n",
       "      <td>4846.275747</td>\n",
       "      <td>715.545829</td>\n",
       "      <td>3821.666058</td>\n",
       "      <td>3865.809870</td>\n",
       "      <td>560.857747</td>\n",
       "      <td>0.000883</td>\n",
       "      <td>0.000693</td>\n",
       "      <td>0.000867</td>\n",
       "    </tr>\n",
       "    <tr>\n",
       "      <th>max</th>\n",
       "      <td>1.000000</td>\n",
       "      <td>871.732245</td>\n",
       "      <td>869.450000</td>\n",
       "      <td>0.998607</td>\n",
       "      <td>0.316516</td>\n",
       "      <td>0.313417</td>\n",
       "      <td>0.226706</td>\n",
       "      <td>0.314445</td>\n",
       "      <td>0.316376</td>\n",
       "      <td>0.206006</td>\n",
       "      <td>...</td>\n",
       "      <td>2624.453281</td>\n",
       "      <td>9823.881272</td>\n",
       "      <td>10257.215632</td>\n",
       "      <td>2290.946342</td>\n",
       "      <td>5317.349597</td>\n",
       "      <td>5452.874865</td>\n",
       "      <td>1764.277964</td>\n",
       "      <td>0.004135</td>\n",
       "      <td>0.004120</td>\n",
       "      <td>0.002525</td>\n",
       "    </tr>\n",
       "  </tbody>\n",
       "</table>\n",
       "<p>8 rows × 79 columns</p>\n",
       "</div>"
      ],
      "text/plain": [
       "             sound     duration  duration_noSilence       voiced    ampl_mean  \\\n",
       "count  1388.000000  1388.000000         1388.000000  1388.000000  1388.000000   \n",
       "mean      0.056916    51.267286           46.231430     0.190484     0.037845   \n",
       "std       0.231766    74.028090           71.406156     0.222492     0.035320   \n",
       "min       0.000000     1.398750            0.100000     0.000276     0.001381   \n",
       "25%       0.000000    16.267755           13.018750     0.045888     0.015662   \n",
       "50%       0.000000    31.203265           27.775000     0.110157     0.027527   \n",
       "75%       0.000000    57.993105           54.656250     0.236197     0.047494   \n",
       "max       1.000000   871.732245          869.450000     0.998607     0.316516   \n",
       "\n",
       "       ampl_median      ampl_sd  amplVoiced_mean  amplVoiced_median  \\\n",
       "count  1388.000000  1388.000000      1388.000000        1388.000000   \n",
       "mean      0.024952     0.036767         0.088769           0.078267   \n",
       "std       0.032617     0.025870         0.036900           0.033869   \n",
       "min       0.000078     0.003573         0.038424           0.040705   \n",
       "25%       0.005616     0.018073         0.063046           0.055235   \n",
       "50%       0.013533     0.030104         0.078507           0.068385   \n",
       "75%       0.029496     0.048192         0.104970           0.089064   \n",
       "max       0.313417     0.226706         0.314445           0.316376   \n",
       "\n",
       "       amplVoiced_sd  ...  quartile75_sd  specCentroid_mean  \\\n",
       "count    1388.000000  ...    1388.000000        1388.000000   \n",
       "mean        0.042328  ...     560.098963        4040.645097   \n",
       "std         0.029211  ...     359.681860        1266.581506   \n",
       "min         0.000415  ...      11.557491         686.240232   \n",
       "25%         0.021542  ...     297.368202        3201.517603   \n",
       "50%         0.036061  ...     482.849361        4071.940543   \n",
       "75%         0.056554  ...     745.681887        4849.885635   \n",
       "max         0.206006  ...    2624.453281        9823.881272   \n",
       "\n",
       "       specCentroid_median  specCentroid_sd  specCentroidCut_mean  \\\n",
       "count          1388.000000      1388.000000           1388.000000   \n",
       "mean           4001.144411       567.662137           3122.074044   \n",
       "std            1312.257404       334.834713            934.922047   \n",
       "min             502.805309        22.083348            545.481217   \n",
       "25%            3130.683623       327.522611           2522.277495   \n",
       "50%            4013.660228       478.061156           3193.455871   \n",
       "75%            4846.275747       715.545829           3821.666058   \n",
       "max           10257.215632      2290.946342           5317.349597   \n",
       "\n",
       "       specCentroidCut_median  specCentroidCut_sd  specSlope_mean  \\\n",
       "count             1388.000000         1388.000000     1388.000000   \n",
       "mean              3103.197808          435.048492        0.000289   \n",
       "std                991.948659          257.050690        0.000979   \n",
       "min                375.741382            0.414655       -0.003277   \n",
       "25%               2496.264947          251.101134       -0.000322   \n",
       "50%               3178.440501          376.176641        0.000212   \n",
       "75%               3865.809870          560.857747        0.000883   \n",
       "max               5452.874865         1764.277964        0.004135   \n",
       "\n",
       "       specSlope_median  specSlope_sd  \n",
       "count       1388.000000   1388.000000  \n",
       "mean           0.000195      0.000629  \n",
       "std            0.000906      0.000413  \n",
       "min           -0.003289      0.000021  \n",
       "25%           -0.000342      0.000295  \n",
       "50%            0.000092      0.000531  \n",
       "75%            0.000693      0.000867  \n",
       "max            0.004120      0.002525  \n",
       "\n",
       "[8 rows x 79 columns]"
      ]
     },
     "execution_count": 273,
     "metadata": {},
     "output_type": "execute_result"
    }
   ],
   "source": [
    "df_birds.describe()"
   ]
  },
  {
   "cell_type": "code",
   "execution_count": 274,
   "metadata": {},
   "outputs": [
    {
     "data": {
      "text/plain": [
       "'corrmat = df_birds.corr() \\n\\nf, ax = plt.subplots(figsize =(9, 8)) \\nsns.heatmap(corrmat, ax = ax, cmap =\"YlGnBu\", linewidths = 0.1)'"
      ]
     },
     "execution_count": 274,
     "metadata": {},
     "output_type": "execute_result"
    }
   ],
   "source": [
    "'''corrmat = df_birds.corr() \n",
    "\n",
    "f, ax = plt.subplots(figsize =(9, 8)) \n",
    "sns.heatmap(corrmat, ax = ax, cmap =\"YlGnBu\", linewidths = 0.1)'''\n"
   ]
  },
  {
   "cell_type": "code",
   "execution_count": 275,
   "metadata": {},
   "outputs": [
    {
     "data": {
      "text/plain": [
       "'corrmat = df_birds.corr() \\n\\ncg = sns.clustermap(corrmat, cmap =\"YlGnBu\", linewidths = 0.1); \\nplt.setp(cg.ax_heatmap.yaxis.get_majorticklabels(), rotation = 0) \\n\\ncg'"
      ]
     },
     "execution_count": 275,
     "metadata": {},
     "output_type": "execute_result"
    }
   ],
   "source": [
    "'''corrmat = df_birds.corr() \n",
    "\n",
    "cg = sns.clustermap(corrmat, cmap =\"YlGnBu\", linewidths = 0.1); \n",
    "plt.setp(cg.ax_heatmap.yaxis.get_majorticklabels(), rotation = 0) \n",
    "\n",
    "cg'''\n"
   ]
  },
  {
   "cell_type": "code",
   "execution_count": 276,
   "metadata": {},
   "outputs": [
    {
     "name": "stderr",
     "output_type": "stream",
     "text": [
      "/Users/marietoudione/anaconda3/anaconda3/lib/python3.7/site-packages/ipykernel_launcher.py:4: FutureWarning: Sorting because non-concatenation axis is not aligned. A future version\n",
      "of pandas will change to not sort by default.\n",
      "\n",
      "To accept the future behavior, pass 'sort=False'.\n",
      "\n",
      "To retain the current behavior and silence the warning, pass 'sort=True'.\n",
      "\n",
      "  after removing the cwd from sys.path.\n"
     ]
    }
   ],
   "source": [
    "## Join train and test datasets to deal with missing values\n",
    "\n",
    "df_birds_len = len(df_birds)\n",
    "dataset =  pd.concat(objs=[df_birds, df_test], axis=0).reset_index(drop=True)"
   ]
  },
  {
   "cell_type": "code",
   "execution_count": 277,
   "metadata": {},
   "outputs": [],
   "source": [
    "#IN TEST DATA \n",
    "# dom_mean, dom_median, dom_sd and pitchSpec_sd have one missing information each\n",
    "#Will fill them with the median "
   ]
  },
  {
   "cell_type": "code",
   "execution_count": 278,
   "metadata": {},
   "outputs": [],
   "source": [
    "dataset[\"dom_mean\"] = dataset[\"dom_mean\"].fillna(dataset[\"dom_mean\"].median())"
   ]
  },
  {
   "cell_type": "code",
   "execution_count": 279,
   "metadata": {},
   "outputs": [],
   "source": [
    "dataset[\"dom_median\"] = dataset[\"dom_median\"].fillna(dataset[\"dom_median\"].median())"
   ]
  },
  {
   "cell_type": "code",
   "execution_count": 280,
   "metadata": {},
   "outputs": [],
   "source": [
    "dataset[\"dom_sd\"] = dataset[\"dom_sd\"].fillna(dataset[\"dom_sd\"].median())"
   ]
  },
  {
   "cell_type": "code",
   "execution_count": 281,
   "metadata": {},
   "outputs": [],
   "source": [
    "dataset[\"pitchSpec_sd\"] = dataset[\"pitchSpec_sd\"].fillna(dataset[\"pitchSpec_sd\"].median())"
   ]
  },
  {
   "cell_type": "code",
   "execution_count": 282,
   "metadata": {},
   "outputs": [
    {
     "name": "stdout",
     "output_type": "stream",
     "text": [
      "<class 'pandas.core.frame.DataFrame'>\n",
      "RangeIndex: 1403 entries, 0 to 1402\n",
      "Data columns (total 79 columns):\n",
      "HNR_mean                  1403 non-null float64\n",
      "HNR_median                1403 non-null float64\n",
      "HNR_sd                    1403 non-null float64\n",
      "amplVoiced_mean           1403 non-null float64\n",
      "amplVoiced_median         1403 non-null float64\n",
      "amplVoiced_sd             1403 non-null float64\n",
      "ampl_mean                 1403 non-null float64\n",
      "ampl_median               1403 non-null float64\n",
      "ampl_sd                   1403 non-null float64\n",
      "dom_mean                  1403 non-null float64\n",
      "dom_median                1403 non-null float64\n",
      "dom_sd                    1403 non-null float64\n",
      "duration                  1403 non-null float64\n",
      "duration_noSilence        1403 non-null float64\n",
      "entropy_mean              1403 non-null float64\n",
      "entropy_median            1403 non-null float64\n",
      "entropy_sd                1403 non-null float64\n",
      "f1_freq_mean              1403 non-null float64\n",
      "f1_freq_median            1403 non-null float64\n",
      "f1_freq_sd                1403 non-null float64\n",
      "f1_width_mean             1403 non-null float64\n",
      "f1_width_median           1403 non-null float64\n",
      "f1_width_sd               1403 non-null float64\n",
      "f2_freq_mean              1403 non-null float64\n",
      "f2_freq_median            1403 non-null float64\n",
      "f2_freq_sd                1403 non-null float64\n",
      "f2_width_mean             1403 non-null float64\n",
      "f2_width_median           1403 non-null float64\n",
      "f2_width_sd               1403 non-null float64\n",
      "f3_freq_mean              1403 non-null float64\n",
      "f3_freq_median            1403 non-null float64\n",
      "f3_freq_sd                1403 non-null float64\n",
      "f3_width_mean             1403 non-null float64\n",
      "f3_width_median           1403 non-null float64\n",
      "f3_width_sd               1403 non-null float64\n",
      "harmonics_mean            1403 non-null float64\n",
      "harmonics_median          1403 non-null float64\n",
      "harmonics_sd              1403 non-null float64\n",
      "loudness_mean             1403 non-null float64\n",
      "loudness_median           1403 non-null float64\n",
      "loudness_sd               1403 non-null float64\n",
      "medianFreq_mean           1403 non-null float64\n",
      "medianFreq_median         1403 non-null float64\n",
      "medianFreq_sd             1403 non-null float64\n",
      "peakFreqCut_mean          1403 non-null float64\n",
      "peakFreqCut_median        1403 non-null float64\n",
      "peakFreqCut_sd            1403 non-null float64\n",
      "peakFreq_mean             1403 non-null float64\n",
      "peakFreq_median           1403 non-null float64\n",
      "peakFreq_sd               1403 non-null float64\n",
      "pitchAutocor_mean         1403 non-null float64\n",
      "pitchAutocor_median       1403 non-null float64\n",
      "pitchAutocor_sd           1403 non-null float64\n",
      "pitchSpec_mean            1403 non-null float64\n",
      "pitchSpec_median          1403 non-null float64\n",
      "pitchSpec_sd              1403 non-null float64\n",
      "pitch_mean                1403 non-null float64\n",
      "pitch_median              1403 non-null float64\n",
      "pitch_sd                  1403 non-null float64\n",
      "quartile25_mean           1403 non-null float64\n",
      "quartile25_median         1403 non-null float64\n",
      "quartile25_sd             1403 non-null float64\n",
      "quartile50_mean           1403 non-null float64\n",
      "quartile50_median         1403 non-null float64\n",
      "quartile50_sd             1403 non-null float64\n",
      "quartile75_mean           1403 non-null float64\n",
      "quartile75_median         1403 non-null float64\n",
      "quartile75_sd             1403 non-null float64\n",
      "sound                     1388 non-null float64\n",
      "specCentroidCut_mean      1403 non-null float64\n",
      "specCentroidCut_median    1403 non-null float64\n",
      "specCentroidCut_sd        1403 non-null float64\n",
      "specCentroid_mean         1403 non-null float64\n",
      "specCentroid_median       1403 non-null float64\n",
      "specCentroid_sd           1403 non-null float64\n",
      "specSlope_mean            1403 non-null float64\n",
      "specSlope_median          1403 non-null float64\n",
      "specSlope_sd              1403 non-null float64\n",
      "voiced                    1403 non-null float64\n",
      "dtypes: float64(79)\n",
      "memory usage: 866.0 KB\n"
     ]
    }
   ],
   "source": [
    "dataset.info()"
   ]
  },
  {
   "cell_type": "code",
   "execution_count": 283,
   "metadata": {},
   "outputs": [],
   "source": [
    "#Remove sound variable\n",
    "\n",
    "dataset= dataset.drop(['sound'], axis=1)"
   ]
  },
  {
   "cell_type": "code",
   "execution_count": 284,
   "metadata": {},
   "outputs": [
    {
     "name": "stdout",
     "output_type": "stream",
     "text": [
      "<class 'pandas.core.frame.DataFrame'>\n",
      "RangeIndex: 1403 entries, 0 to 1402\n",
      "Data columns (total 78 columns):\n",
      "HNR_mean                  1403 non-null float64\n",
      "HNR_median                1403 non-null float64\n",
      "HNR_sd                    1403 non-null float64\n",
      "amplVoiced_mean           1403 non-null float64\n",
      "amplVoiced_median         1403 non-null float64\n",
      "amplVoiced_sd             1403 non-null float64\n",
      "ampl_mean                 1403 non-null float64\n",
      "ampl_median               1403 non-null float64\n",
      "ampl_sd                   1403 non-null float64\n",
      "dom_mean                  1403 non-null float64\n",
      "dom_median                1403 non-null float64\n",
      "dom_sd                    1403 non-null float64\n",
      "duration                  1403 non-null float64\n",
      "duration_noSilence        1403 non-null float64\n",
      "entropy_mean              1403 non-null float64\n",
      "entropy_median            1403 non-null float64\n",
      "entropy_sd                1403 non-null float64\n",
      "f1_freq_mean              1403 non-null float64\n",
      "f1_freq_median            1403 non-null float64\n",
      "f1_freq_sd                1403 non-null float64\n",
      "f1_width_mean             1403 non-null float64\n",
      "f1_width_median           1403 non-null float64\n",
      "f1_width_sd               1403 non-null float64\n",
      "f2_freq_mean              1403 non-null float64\n",
      "f2_freq_median            1403 non-null float64\n",
      "f2_freq_sd                1403 non-null float64\n",
      "f2_width_mean             1403 non-null float64\n",
      "f2_width_median           1403 non-null float64\n",
      "f2_width_sd               1403 non-null float64\n",
      "f3_freq_mean              1403 non-null float64\n",
      "f3_freq_median            1403 non-null float64\n",
      "f3_freq_sd                1403 non-null float64\n",
      "f3_width_mean             1403 non-null float64\n",
      "f3_width_median           1403 non-null float64\n",
      "f3_width_sd               1403 non-null float64\n",
      "harmonics_mean            1403 non-null float64\n",
      "harmonics_median          1403 non-null float64\n",
      "harmonics_sd              1403 non-null float64\n",
      "loudness_mean             1403 non-null float64\n",
      "loudness_median           1403 non-null float64\n",
      "loudness_sd               1403 non-null float64\n",
      "medianFreq_mean           1403 non-null float64\n",
      "medianFreq_median         1403 non-null float64\n",
      "medianFreq_sd             1403 non-null float64\n",
      "peakFreqCut_mean          1403 non-null float64\n",
      "peakFreqCut_median        1403 non-null float64\n",
      "peakFreqCut_sd            1403 non-null float64\n",
      "peakFreq_mean             1403 non-null float64\n",
      "peakFreq_median           1403 non-null float64\n",
      "peakFreq_sd               1403 non-null float64\n",
      "pitchAutocor_mean         1403 non-null float64\n",
      "pitchAutocor_median       1403 non-null float64\n",
      "pitchAutocor_sd           1403 non-null float64\n",
      "pitchSpec_mean            1403 non-null float64\n",
      "pitchSpec_median          1403 non-null float64\n",
      "pitchSpec_sd              1403 non-null float64\n",
      "pitch_mean                1403 non-null float64\n",
      "pitch_median              1403 non-null float64\n",
      "pitch_sd                  1403 non-null float64\n",
      "quartile25_mean           1403 non-null float64\n",
      "quartile25_median         1403 non-null float64\n",
      "quartile25_sd             1403 non-null float64\n",
      "quartile50_mean           1403 non-null float64\n",
      "quartile50_median         1403 non-null float64\n",
      "quartile50_sd             1403 non-null float64\n",
      "quartile75_mean           1403 non-null float64\n",
      "quartile75_median         1403 non-null float64\n",
      "quartile75_sd             1403 non-null float64\n",
      "specCentroidCut_mean      1403 non-null float64\n",
      "specCentroidCut_median    1403 non-null float64\n",
      "specCentroidCut_sd        1403 non-null float64\n",
      "specCentroid_mean         1403 non-null float64\n",
      "specCentroid_median       1403 non-null float64\n",
      "specCentroid_sd           1403 non-null float64\n",
      "specSlope_mean            1403 non-null float64\n",
      "specSlope_median          1403 non-null float64\n",
      "specSlope_sd              1403 non-null float64\n",
      "voiced                    1403 non-null float64\n",
      "dtypes: float64(78)\n",
      "memory usage: 855.1 KB\n"
     ]
    }
   ],
   "source": [
    "dataset.info()"
   ]
  },
  {
   "cell_type": "code",
   "execution_count": 285,
   "metadata": {},
   "outputs": [],
   "source": [
    "## Separate train dataset and test dataset\n",
    "\n",
    "df_birds = dataset[:df_birds_len]\n",
    "df_test = dataset[df_birds_len:]"
   ]
  },
  {
   "cell_type": "code",
   "execution_count": 286,
   "metadata": {},
   "outputs": [
    {
     "data": {
      "text/plain": [
       "((1388, 78), (15, 78))"
      ]
     },
     "execution_count": 286,
     "metadata": {},
     "output_type": "execute_result"
    }
   ],
   "source": [
    "df_birds.shape, df_test.shape"
   ]
  },
  {
   "cell_type": "code",
   "execution_count": 287,
   "metadata": {},
   "outputs": [],
   "source": [
    "from sklearn.model_selection import train_test_split\n",
    "\n",
    "X_train, X_test, y_train, y_test = train_test_split(df_birds, df_birds, test_size = 0.20, random_state = 20)"
   ]
  },
  {
   "cell_type": "code",
   "execution_count": 288,
   "metadata": {},
   "outputs": [
    {
     "data": {
      "text/plain": [
       "(1110, 78)"
      ]
     },
     "execution_count": 288,
     "metadata": {},
     "output_type": "execute_result"
    }
   ],
   "source": [
    "X_train.shape"
   ]
  },
  {
   "cell_type": "code",
   "execution_count": 289,
   "metadata": {},
   "outputs": [],
   "source": [
    "#Feature Scaling for X_train\n",
    "\n",
    "scaler = preprocessing.StandardScaler()\n",
    "X_scaled=scaler.fit_transform(X_train)"
   ]
  },
  {
   "cell_type": "code",
   "execution_count": 290,
   "metadata": {},
   "outputs": [],
   "source": [
    "pca= PCA(n_components=78)"
   ]
  },
  {
   "cell_type": "code",
   "execution_count": 291,
   "metadata": {},
   "outputs": [
    {
     "data": {
      "text/plain": [
       "PCA(copy=True, iterated_power='auto', n_components=78, random_state=None,\n",
       "    svd_solver='auto', tol=0.0, whiten=False)"
      ]
     },
     "execution_count": 291,
     "metadata": {},
     "output_type": "execute_result"
    }
   ],
   "source": [
    "pca.fit(X_scaled)"
   ]
  },
  {
   "cell_type": "code",
   "execution_count": 292,
   "metadata": {},
   "outputs": [
    {
     "name": "stdout",
     "output_type": "stream",
     "text": [
      "[2.489e+01 1.425e+01 9.150e+00 7.530e+00 5.180e+00 4.400e+00 3.820e+00\n",
      " 2.810e+00 2.500e+00 2.250e+00 2.020e+00 2.010e+00 1.740e+00 1.400e+00\n",
      " 1.350e+00 1.180e+00 1.010e+00 9.000e-01 8.700e-01 8.200e-01 7.200e-01\n",
      " 7.000e-01 6.500e-01 6.100e-01 5.700e-01 5.400e-01 5.000e-01 4.900e-01\n",
      " 4.500e-01 4.300e-01 3.700e-01 3.200e-01 3.200e-01 2.900e-01 2.600e-01\n",
      " 2.400e-01 2.200e-01 2.100e-01 2.000e-01 1.600e-01 1.600e-01 1.500e-01\n",
      " 1.300e-01 1.200e-01 1.100e-01 1.000e-01 8.000e-02 7.000e-02 7.000e-02\n",
      " 6.000e-02 6.000e-02 6.000e-02 5.000e-02 5.000e-02 5.000e-02 3.000e-02\n",
      " 3.000e-02 3.000e-02 2.000e-02 2.000e-02 2.000e-02 2.000e-02 2.000e-02\n",
      " 1.000e-02 1.000e-02 1.000e-02 1.000e-02 1.000e-02 1.000e-02 1.000e-02\n",
      " 1.000e-02 1.000e-02 1.000e-02 1.000e-02 1.000e-02 0.000e+00 0.000e+00\n",
      " 0.000e+00]\n"
     ]
    }
   ],
   "source": [
    "#The amount of variance that each Principal Component explains\n",
    "#The output below tells us that 24.89% of the dataset variance lies along the first Principal Component,\n",
    "#14.25% along the 2nd PC etc.\n",
    "\n",
    "#Eigen values\n",
    "\n",
    "var_pc=pca.explained_variance_ratio_\n",
    "\n",
    "print(np.round(var_pc, decimals=4)*100)\n",
    "#print(var_pc)"
   ]
  },
  {
   "cell_type": "code",
   "execution_count": 293,
   "metadata": {},
   "outputs": [
    {
     "name": "stdout",
     "output_type": "stream",
     "text": [
      "[24.89 39.14 48.29 55.82 61.   65.4  69.22 72.03 74.53 76.78 78.8  80.81\n",
      " 82.55 83.95 85.3  86.48 87.49 88.39 89.26 90.08 90.8  91.5  92.15 92.76\n",
      " 93.33 93.87 94.37 94.86 95.31 95.74 96.11 96.43 96.75 97.04 97.3  97.54\n",
      " 97.76 97.97 98.17 98.33 98.49 98.64 98.77 98.89 99.   99.1  99.18 99.25\n",
      " 99.32 99.38 99.44 99.5  99.55 99.6  99.65 99.68 99.71 99.74 99.76 99.78\n",
      " 99.8  99.82 99.84 99.85 99.86 99.87 99.88 99.89 99.9  99.91 99.92 99.93\n",
      " 99.94 99.95 99.96 99.96 99.96 99.96]\n"
     ]
    }
   ],
   "source": [
    "#Cumulative Variance explains of all dataset\n",
    "\n",
    "var_pc_all=np.cumsum(np.round(var_pc, decimals=4)*100)\n",
    "print(var_pc1)"
   ]
  },
  {
   "cell_type": "code",
   "execution_count": 294,
   "metadata": {},
   "outputs": [
    {
     "data": {
      "text/plain": [
       "[<matplotlib.lines.Line2D at 0x1a23c1bd50>]"
      ]
     },
     "execution_count": 294,
     "metadata": {},
     "output_type": "execute_result"
    },
    {
     "data": {
      "image/png": "[encoded data removed]",
      "text/plain": [
       "<Figure size 432x288 with 1 Axes>"
      ]
     },
     "metadata": {
      "needs_background": "light"
     },
     "output_type": "display_data"
    }
   ],
   "source": [
    "plt.plot(var_pc_all)"
   ]
  },
  {
   "cell_type": "code",
   "execution_count": 295,
   "metadata": {},
   "outputs": [
    {
     "data": {
      "text/plain": [
       "PCA(copy=True, iterated_power='auto', n_components=0.99, random_state=None,\n",
       "    svd_solver='auto', tol=0.0, whiten=False)"
      ]
     },
     "execution_count": 295,
     "metadata": {},
     "output_type": "execute_result"
    }
   ],
   "source": [
    "#Now we want the principal components that explain 99% of the dataset's variance\n",
    "\n",
    "pca= PCA(n_components=.99)\n",
    "\n",
    "pca.fit(X_scaled)"
   ]
  },
  {
   "cell_type": "code",
   "execution_count": 296,
   "metadata": {},
   "outputs": [
    {
     "name": "stdout",
     "output_type": "stream",
     "text": [
      "[24.89 14.25  9.15  7.53  5.18  4.4   3.82  2.81  2.5   2.25  2.02  2.01\n",
      "  1.74  1.4   1.35  1.18  1.01  0.9   0.87  0.82  0.72  0.7   0.65  0.61\n",
      "  0.57  0.54  0.5   0.49  0.45  0.43  0.37  0.32  0.32  0.29  0.26  0.24\n",
      "  0.22  0.21  0.2   0.16  0.16  0.15  0.13  0.12  0.11]\n"
     ]
    }
   ],
   "source": [
    "var_pc=pca.explained_variance_ratio_\n",
    "\n",
    "print(np.round(var_pc, decimals=4)*100)"
   ]
  },
  {
   "cell_type": "code",
   "execution_count": 297,
   "metadata": {},
   "outputs": [],
   "source": [
    "#Cumulative Variance explains of reduced\n",
    "\n",
    "var_pc_reduced=np.cumsum(np.round(var_pc, decimals=4)*100)"
   ]
  },
  {
   "cell_type": "code",
   "execution_count": 298,
   "metadata": {},
   "outputs": [
    {
     "name": "stdout",
     "output_type": "stream",
     "text": [
      "[24.89 39.14 48.29 55.82 61.   65.4  69.22 72.03 74.53 76.78 78.8  80.81\n",
      " 82.55 83.95 85.3  86.48 87.49 88.39 89.26 90.08 90.8  91.5  92.15 92.76\n",
      " 93.33 93.87 94.37 94.86 95.31 95.74 96.11 96.43 96.75 97.04 97.3  97.54\n",
      " 97.76 97.97 98.17 98.33 98.49 98.64 98.77 98.89 99.  ]\n"
     ]
    }
   ],
   "source": [
    "print(var_pc_reduced)"
   ]
  },
  {
   "cell_type": "code",
   "execution_count": 299,
   "metadata": {},
   "outputs": [
    {
     "data": {
      "text/plain": [
       "[<matplotlib.lines.Line2D at 0x1a22db8c90>]"
      ]
     },
     "execution_count": 299,
     "metadata": {},
     "output_type": "execute_result"
    },
    {
     "data": {
      "image/png": "[encoded data removed]",
      "text/plain": [
       "<Figure size 432x288 with 1 Axes>"
      ]
     },
     "metadata": {
      "needs_background": "light"
     },
     "output_type": "display_data"
    }
   ],
   "source": [
    "plt.plot(var_pc_reduced)"
   ]
  },
  {
   "cell_type": "code",
   "execution_count": 300,
   "metadata": {},
   "outputs": [],
   "source": [
    "#I select variables that explain 99% of the model\n",
    "\n",
    "X_reduced=pca.fit_transform(X_scaled)"
   ]
  },
  {
   "cell_type": "code",
   "execution_count": 301,
   "metadata": {},
   "outputs": [
    {
     "name": "stdout",
     "output_type": "stream",
     "text": [
      "[[ 8.10454849e-01  4.32248466e+00 -5.42769039e+00 ... -1.30713509e-01\n",
      "  -4.71762881e-01  1.67880146e-01]\n",
      " [ 5.92811444e+00 -1.84868666e+00  5.13609341e+00 ... -2.65697807e-01\n",
      "  -8.70145814e-02 -1.05187902e-01]\n",
      " [-1.08727322e+00 -1.02727414e+00  5.25334361e-01 ...  2.67018280e-01\n",
      "  -9.55720906e-02  7.24319750e-02]\n",
      " ...\n",
      " [ 5.40758351e+00 -1.22642651e+00  3.69171230e+00 ... -6.50677136e-01\n",
      "  -1.43653506e-01  2.35907226e-01]\n",
      " [-3.71407647e+00  3.21727092e+00  1.27248293e+00 ...  1.78248490e-03\n",
      "  -3.25271864e-01  3.60519509e-02]\n",
      " [ 2.36103296e+00 -3.21612972e+00 -2.68600907e+00 ... -1.65964765e-01\n",
      "  -1.82578915e-01  6.50235288e-02]]\n"
     ]
    }
   ],
   "source": [
    "print(X_reduced)"
   ]
  },
  {
   "cell_type": "code",
   "execution_count": 302,
   "metadata": {},
   "outputs": [],
   "source": [
    "X_reduced=pd.DataFrame(X_reduced)"
   ]
  },
  {
   "cell_type": "code",
   "execution_count": 303,
   "metadata": {},
   "outputs": [
    {
     "data": {
      "text/html": [
       "<div>\n",
       "<style scoped>\n",
       "    .dataframe tbody tr th:only-of-type {\n",
       "        vertical-align: middle;\n",
       "    }\n",
       "\n",
       "    .dataframe tbody tr th {\n",
       "        vertical-align: top;\n",
       "    }\n",
       "\n",
       "    .dataframe thead th {\n",
       "        text-align: right;\n",
       "    }\n",
       "</style>\n",
       "<table border=\"1\" class=\"dataframe\">\n",
       "  <thead>\n",
       "    <tr style=\"text-align: right;\">\n",
       "      <th></th>\n",
       "      <th>0</th>\n",
       "      <th>1</th>\n",
       "      <th>2</th>\n",
       "      <th>3</th>\n",
       "      <th>4</th>\n",
       "      <th>5</th>\n",
       "      <th>6</th>\n",
       "      <th>7</th>\n",
       "      <th>8</th>\n",
       "      <th>9</th>\n",
       "      <th>...</th>\n",
       "      <th>35</th>\n",
       "      <th>36</th>\n",
       "      <th>37</th>\n",
       "      <th>38</th>\n",
       "      <th>39</th>\n",
       "      <th>40</th>\n",
       "      <th>41</th>\n",
       "      <th>42</th>\n",
       "      <th>43</th>\n",
       "      <th>44</th>\n",
       "    </tr>\n",
       "  </thead>\n",
       "  <tbody>\n",
       "    <tr>\n",
       "      <th>0</th>\n",
       "      <td>0.810455</td>\n",
       "      <td>4.322485</td>\n",
       "      <td>-5.427690</td>\n",
       "      <td>-2.127895</td>\n",
       "      <td>-1.594509</td>\n",
       "      <td>-0.286651</td>\n",
       "      <td>2.002136</td>\n",
       "      <td>-2.107604</td>\n",
       "      <td>1.514069</td>\n",
       "      <td>-0.028794</td>\n",
       "      <td>...</td>\n",
       "      <td>-0.820099</td>\n",
       "      <td>0.718679</td>\n",
       "      <td>0.005081</td>\n",
       "      <td>0.449762</td>\n",
       "      <td>-0.521654</td>\n",
       "      <td>-0.064137</td>\n",
       "      <td>0.042250</td>\n",
       "      <td>-0.130714</td>\n",
       "      <td>-0.471763</td>\n",
       "      <td>0.167880</td>\n",
       "    </tr>\n",
       "    <tr>\n",
       "      <th>1</th>\n",
       "      <td>5.928114</td>\n",
       "      <td>-1.848687</td>\n",
       "      <td>5.136093</td>\n",
       "      <td>-0.792532</td>\n",
       "      <td>1.694586</td>\n",
       "      <td>-2.217669</td>\n",
       "      <td>1.303115</td>\n",
       "      <td>1.193885</td>\n",
       "      <td>2.904561</td>\n",
       "      <td>0.031496</td>\n",
       "      <td>...</td>\n",
       "      <td>0.644095</td>\n",
       "      <td>-0.147928</td>\n",
       "      <td>0.014175</td>\n",
       "      <td>-0.323354</td>\n",
       "      <td>0.102104</td>\n",
       "      <td>-0.133646</td>\n",
       "      <td>-0.298140</td>\n",
       "      <td>-0.265698</td>\n",
       "      <td>-0.087015</td>\n",
       "      <td>-0.105188</td>\n",
       "    </tr>\n",
       "    <tr>\n",
       "      <th>2</th>\n",
       "      <td>-1.087273</td>\n",
       "      <td>-1.027274</td>\n",
       "      <td>0.525334</td>\n",
       "      <td>-3.822719</td>\n",
       "      <td>0.903049</td>\n",
       "      <td>-2.026816</td>\n",
       "      <td>-1.910819</td>\n",
       "      <td>0.627814</td>\n",
       "      <td>1.623845</td>\n",
       "      <td>-0.134133</td>\n",
       "      <td>...</td>\n",
       "      <td>-0.615862</td>\n",
       "      <td>0.184694</td>\n",
       "      <td>0.203547</td>\n",
       "      <td>-0.010090</td>\n",
       "      <td>-0.166041</td>\n",
       "      <td>0.161616</td>\n",
       "      <td>0.005852</td>\n",
       "      <td>0.267018</td>\n",
       "      <td>-0.095572</td>\n",
       "      <td>0.072432</td>\n",
       "    </tr>\n",
       "    <tr>\n",
       "      <th>3</th>\n",
       "      <td>-5.532408</td>\n",
       "      <td>2.723562</td>\n",
       "      <td>1.223488</td>\n",
       "      <td>2.644865</td>\n",
       "      <td>1.767627</td>\n",
       "      <td>2.568692</td>\n",
       "      <td>1.823231</td>\n",
       "      <td>1.319606</td>\n",
       "      <td>-1.540947</td>\n",
       "      <td>-0.699498</td>\n",
       "      <td>...</td>\n",
       "      <td>-0.340892</td>\n",
       "      <td>0.188653</td>\n",
       "      <td>-0.219019</td>\n",
       "      <td>0.129563</td>\n",
       "      <td>-0.127736</td>\n",
       "      <td>0.204120</td>\n",
       "      <td>-0.219910</td>\n",
       "      <td>-0.013267</td>\n",
       "      <td>-0.058465</td>\n",
       "      <td>0.057905</td>\n",
       "    </tr>\n",
       "    <tr>\n",
       "      <th>4</th>\n",
       "      <td>-2.814773</td>\n",
       "      <td>3.579823</td>\n",
       "      <td>-1.956822</td>\n",
       "      <td>0.190532</td>\n",
       "      <td>0.980903</td>\n",
       "      <td>-2.199248</td>\n",
       "      <td>0.021442</td>\n",
       "      <td>3.731309</td>\n",
       "      <td>0.351158</td>\n",
       "      <td>3.630612</td>\n",
       "      <td>...</td>\n",
       "      <td>0.062547</td>\n",
       "      <td>-0.444565</td>\n",
       "      <td>0.331773</td>\n",
       "      <td>0.071040</td>\n",
       "      <td>-0.197483</td>\n",
       "      <td>-0.073123</td>\n",
       "      <td>-0.271038</td>\n",
       "      <td>0.098747</td>\n",
       "      <td>0.264244</td>\n",
       "      <td>-0.127177</td>\n",
       "    </tr>\n",
       "  </tbody>\n",
       "</table>\n",
       "<p>5 rows × 45 columns</p>\n",
       "</div>"
      ],
      "text/plain": [
       "         0         1         2         3         4         5         6   \\\n",
       "0  0.810455  4.322485 -5.427690 -2.127895 -1.594509 -0.286651  2.002136   \n",
       "1  5.928114 -1.848687  5.136093 -0.792532  1.694586 -2.217669  1.303115   \n",
       "2 -1.087273 -1.027274  0.525334 -3.822719  0.903049 -2.026816 -1.910819   \n",
       "3 -5.532408  2.723562  1.223488  2.644865  1.767627  2.568692  1.823231   \n",
       "4 -2.814773  3.579823 -1.956822  0.190532  0.980903 -2.199248  0.021442   \n",
       "\n",
       "         7         8         9   ...        35        36        37        38  \\\n",
       "0 -2.107604  1.514069 -0.028794  ... -0.820099  0.718679  0.005081  0.449762   \n",
       "1  1.193885  2.904561  0.031496  ...  0.644095 -0.147928  0.014175 -0.323354   \n",
       "2  0.627814  1.623845 -0.134133  ... -0.615862  0.184694  0.203547 -0.010090   \n",
       "3  1.319606 -1.540947 -0.699498  ... -0.340892  0.188653 -0.219019  0.129563   \n",
       "4  3.731309  0.351158  3.630612  ...  0.062547 -0.444565  0.331773  0.071040   \n",
       "\n",
       "         39        40        41        42        43        44  \n",
       "0 -0.521654 -0.064137  0.042250 -0.130714 -0.471763  0.167880  \n",
       "1  0.102104 -0.133646 -0.298140 -0.265698 -0.087015 -0.105188  \n",
       "2 -0.166041  0.161616  0.005852  0.267018 -0.095572  0.072432  \n",
       "3 -0.127736  0.204120 -0.219910 -0.013267 -0.058465  0.057905  \n",
       "4 -0.197483 -0.073123 -0.271038  0.098747  0.264244 -0.127177  \n",
       "\n",
       "[5 rows x 45 columns]"
      ]
     },
     "execution_count": 303,
     "metadata": {},
     "output_type": "execute_result"
    }
   ],
   "source": [
    "X_reduced.head()"
   ]
  },
  {
   "cell_type": "code",
   "execution_count": 304,
   "metadata": {},
   "outputs": [],
   "source": [
    "#output above shows that 45 principal components explain 99% of the dataset variance\n",
    "\n",
    "#for the X_test dataset we will have interest in the first 45 principal components"
   ]
  },
  {
   "cell_type": "code",
   "execution_count": null,
   "metadata": {},
   "outputs": [],
   "source": [
    "#(Explanation below is from Analytics Vidhya)\n",
    "\n",
    "#https://www.analyticsvidhya.com/blog/2016/03/pca-practical-guide-principal-component-analysis-python/\n",
    "\n",
    "\n",
    "#Predictive Modeling with PCA Components\n",
    "\n",
    "#After we’ve performed PCA on training set, let’s now understand the process of predicting on test data \n",
    "#using these components. \n",
    "#The process is simple. Just like we’ve obtained PCA components on training set, \n",
    "#we’ll get another bunch of components on testing set. Finally, we train the model.\n",
    "\n",
    "#But, few important points to understand:\n",
    "\n",
    "#We should not combine the train and test set to obtain PCA components of whole data at once. \n",
    "#Because, this would violate the entire assumption of generalization since test data would get ‘leaked’ \n",
    "#into the training set. In other words, the test data set would no longer remain ‘unseen’. \n",
    "#Eventually, this will hammer down the generalization capability of the model.\n",
    "#We should not perform PCA on test and train data sets separately. \n",
    "#Because, the resultant vectors from train and test PCAs will have different directions ( due to unequal variance). \n",
    "#Due to this, we’ll end up comparing data registered on different axes. \n",
    "#Therefore, the resulting vectors from train and test data should have same axes."
   ]
  },
  {
   "cell_type": "code",
   "execution_count": null,
   "metadata": {},
   "outputs": [],
   "source": [
    "#In the example they gave they proceeding as follows\n",
    "\n",
    "#created a new train dataset= X_reduced + the response variable (the variable 'sound')\n",
    "#sound takes the values 0 or 1 (Not Blue pipit or is Blue pipit)\n",
    "\n",
    "#run a decision tree/Rnadom Forest with the reduced train data\n",
    "\n",
    "#Then used the prediction to transform the test data into PCA \n",
    "\n",
    "#Then select the first 45 principal components of the transformed test data\n",
    "\n"
   ]
  }
 ],
 "metadata": {
  "kernelspec": {
   "display_name": "Python 3",
   "language": "python",
   "name": "python3"
  },
  "language_info": {
   "codemirror_mode": {
    "name": "ipython",
    "version": 3
   },
   "file_extension": ".py",
   "mimetype": "text/x-python",
   "name": "python",
   "nbconvert_exporter": "python",
   "pygments_lexer": "ipython3",
   "version": "3.7.4"
  }
 },
 "nbformat": 4,
 "nbformat_minor": 2
}
